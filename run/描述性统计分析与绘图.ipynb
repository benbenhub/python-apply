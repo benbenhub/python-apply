{
 "cells": [
  {
   "cell_type": "markdown",
   "id": "dfbf3fcb",
   "metadata": {},
   "source": [
    "3.1.3 连续变量的分布与集中趋势"
   ]
  },
  {
   "cell_type": "code",
   "execution_count": 1,
   "id": "497163cf",
   "metadata": {},
   "outputs": [],
   "source": [
    "import pandas as pd\n",
    "data = pd.read_csv('sndHsPr.csv')"
   ]
  },
  {
   "cell_type": "code",
   "execution_count": 3,
   "id": "e38caf45",
   "metadata": {},
   "outputs": [
    {
     "data": {
      "text/plain": [
       "mean      61151.810919\n",
       "median    57473.000000\n",
       "std       22293.358147\n",
       "Name: price, dtype: float64"
      ]
     },
     "execution_count": 3,
     "metadata": {},
     "output_type": "execute_result"
    }
   ],
   "source": [
    "data.price.agg(['mean','median','std'])"
   ]
  },
  {
   "cell_type": "code",
   "execution_count": 4,
   "id": "1f2f9526",
   "metadata": {},
   "outputs": [
    {
     "data": {
      "text/plain": [
       "0.25    42812.25\n",
       "0.50    57473.00\n",
       "0.75    76099.75\n",
       "Name: price, dtype: float64"
      ]
     },
     "execution_count": 4,
     "metadata": {},
     "output_type": "execute_result"
    }
   ],
   "source": [
    "data. price.quantile([0.25,0.5,0.75])"
   ]
  },
  {
   "cell_type": "code",
   "execution_count": 5,
   "id": "ca42414b",
   "metadata": {},
   "outputs": [
    {
     "data": {
      "text/plain": [
       "<AxesSubplot:>"
      ]
     },
     "execution_count": 5,
     "metadata": {},
     "output_type": "execute_result"
    },
    {
     "data": {
      "image/png": "[encoded data removed]",
      "text/plain": [
       "<Figure size 432x288 with 1 Axes>"
      ]
     },
     "metadata": {
      "needs_background": "light"
     },
     "output_type": "display_data"
    }
   ],
   "source": [
    "data.price.hist(bins=20)"
   ]
  },
  {
   "cell_type": "markdown",
   "id": "2dd59761",
   "metadata": {},
   "source": [
    "3.1.4 连续变量的离散程度"
   ]
  },
  {
   "cell_type": "code",
   "execution_count": 6,
   "id": "2aba1f7a",
   "metadata": {},
   "outputs": [
    {
     "data": {
      "text/plain": [
       "131523"
      ]
     },
     "execution_count": 6,
     "metadata": {},
     "output_type": "execute_result"
    }
   ],
   "source": [
    "data.price.max()-data.price.min()"
   ]
  },
  {
   "cell_type": "code",
   "execution_count": 9,
   "id": "25ddcc04",
   "metadata": {},
   "outputs": [
    {
     "data": {
      "text/plain": [
       "496993817.48506516"
      ]
     },
     "execution_count": 9,
     "metadata": {},
     "output_type": "execute_result"
    }
   ],
   "source": [
    "data.price.var()#求方差"
   ]
  },
  {
   "cell_type": "code",
   "execution_count": 8,
   "id": "f191cc7a",
   "metadata": {},
   "outputs": [
    {
     "data": {
      "text/plain": [
       "22293.35814732866"
      ]
     },
     "execution_count": 8,
     "metadata": {},
     "output_type": "execute_result"
    }
   ],
   "source": [
    "data.price.std()#求标准差"
   ]
  },
  {
   "cell_type": "markdown",
   "id": "4c151c07",
   "metadata": {},
   "source": [
    "3.1.5 数据分布的对称与高矮"
   ]
  },
  {
   "cell_type": "code",
   "execution_count": 11,
   "id": "e2d70dcc",
   "metadata": {},
   "outputs": [],
   "source": [
    "import numpy as np"
   ]
  },
  {
   "cell_type": "code",
   "execution_count": 12,
   "id": "08d9e767",
   "metadata": {
    "scrolled": true
   },
   "outputs": [],
   "source": [
    "normal = pd.Series(np.random.randn(1000),name='normal')"
   ]
  },
  {
   "cell_type": "code",
   "execution_count": 13,
   "id": "22786853",
   "metadata": {},
   "outputs": [
    {
     "data": {
      "text/plain": [
       "0.1373484269610478"
      ]
     },
     "execution_count": 13,
     "metadata": {},
     "output_type": "execute_result"
    }
   ],
   "source": [
    "normal.skew()"
   ]
  },
  {
   "cell_type": "code",
   "execution_count": 14,
   "id": "51c9d3c5",
   "metadata": {},
   "outputs": [
    {
     "data": {
      "text/plain": [
       "-0.021007893399674238"
      ]
     },
     "execution_count": 14,
     "metadata": {},
     "output_type": "execute_result"
    }
   ],
   "source": [
    "normal.kurtosis()"
   ]
  },
  {
   "cell_type": "code",
   "execution_count": null,
   "id": "fe9df40f",
   "metadata": {},
   "outputs": [],
   "source": []
  },
  {
   "cell_type": "code",
   "execution_count": null,
   "id": "32c56bdd",
   "metadata": {},
   "outputs": [],
   "source": []
  },
  {
   "cell_type": "code",
   "execution_count": null,
   "id": "a6620762",
   "metadata": {},
   "outputs": [],
   "source": []
  },
  {
   "cell_type": "code",
   "execution_count": null,
   "id": "65347cc8",
   "metadata": {},
   "outputs": [],
   "source": []
  }
 ],
 "metadata": {
  "kernelspec": {
   "display_name": "Python 3",
   "language": "python",
   "name": "python3"
  },
  "language_info": {
   "codemirror_mode": {
    "name": "ipython",
    "version": 3
   },
   "file_extension": ".py",
   "mimetype": "text/x-python",
   "name": "python",
   "nbconvert_exporter": "python",
   "pygments_lexer": "ipython3",
   "version": "3.8.8"
  },
  "toc": {
   "base_numbering": 1,
   "nav_menu": {},
   "number_sections": true,
   "sideBar": true,
   "skip_h1_title": false,
   "title_cell": "Table of Contents",
   "title_sidebar": "Contents",
   "toc_cell": false,
   "toc_position": {},
   "toc_section_display": true,
   "toc_window_display": false
  }
 },
 "nbformat": 4,
 "nbformat_minor": 5
}
